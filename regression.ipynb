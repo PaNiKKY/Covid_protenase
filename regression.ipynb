{
  "nbformat": 4,
  "nbformat_minor": 0,
  "metadata": {
    "colab": {
      "provenance": [],
      "authorship_tag": "ABX9TyMqQrGd8hbh6V8pXpcaHQgU",
      "include_colab_link": true
    },
    "kernelspec": {
      "name": "python3",
      "display_name": "Python 3"
    },
    "language_info": {
      "name": "python"
    }
  },
  "cells": [
    {
      "cell_type": "markdown",
      "metadata": {
        "id": "view-in-github",
        "colab_type": "text"
      },
      "source": [
        "<a href=\"https://colab.research.google.com/github/PaNiKKY/Covid_protenase/blob/main/regression.ipynb\" target=\"_parent\"><img src=\"https://colab.research.google.com/assets/colab-badge.svg\" alt=\"Open In Colab\"/></a>"
      ]
    },
    {
      "cell_type": "code",
      "source": [
        "import pandas as pd\n",
        "import numpy as np\n",
        "import matplotlib.pyplot as plt\n",
        "import seaborn as sns\n",
        "from scipy import stats"
      ],
      "metadata": {
        "id": "op-MbeDqB6PQ"
      },
      "execution_count": 12,
      "outputs": []
    },
    {
      "cell_type": "code",
      "source": [
        "dataset = pd.read_csv(\"/content/merged_data_regression.csv\", index_col=\"InChIKey\")\n",
        "print(len(dataset))\n",
        "dataset.head(2)"
      ],
      "metadata": {
        "colab": {
          "base_uri": "https://localhost:8080/",
          "height": 289
        },
        "id": "AH1FeJqhCB56",
        "outputId": "c88fddc7-13f0-4c4b-dadc-59e37eee1bbf"
      },
      "execution_count": 13,
      "outputs": [
        {
          "output_type": "stream",
          "name": "stdout",
          "text": [
            "699\n"
          ]
        },
        {
          "output_type": "execute_result",
          "data": {
            "text/plain": [
              "                                pIC50  PubchemFP0  PubchemFP1  PubchemFP2  \\\n",
              "InChIKey                                                                    \n",
              "VDCCGGIBUYGMIS-MRXNPFEDSA-N  6.004365           1           1           1   \n",
              "BESULOSOTMRSOO-UHFFFAOYSA-N  6.004365           1           1           0   \n",
              "\n",
              "                             PubchemFP3  PubchemFP4  PubchemFP5  PubchemFP6  \\\n",
              "InChIKey                                                                      \n",
              "VDCCGGIBUYGMIS-MRXNPFEDSA-N           0           0           0           0   \n",
              "BESULOSOTMRSOO-UHFFFAOYSA-N           0           0           0           0   \n",
              "\n",
              "                             PubchemFP7  PubchemFP8  ...  PubchemFP871  \\\n",
              "InChIKey                                             ...                 \n",
              "VDCCGGIBUYGMIS-MRXNPFEDSA-N           0           0  ...             0   \n",
              "BESULOSOTMRSOO-UHFFFAOYSA-N           0           0  ...             0   \n",
              "\n",
              "                             PubchemFP872  PubchemFP873  PubchemFP874  \\\n",
              "InChIKey                                                                \n",
              "VDCCGGIBUYGMIS-MRXNPFEDSA-N             0             0             0   \n",
              "BESULOSOTMRSOO-UHFFFAOYSA-N             0             0             0   \n",
              "\n",
              "                             PubchemFP875  PubchemFP876  PubchemFP877  \\\n",
              "InChIKey                                                                \n",
              "VDCCGGIBUYGMIS-MRXNPFEDSA-N             0             0             0   \n",
              "BESULOSOTMRSOO-UHFFFAOYSA-N             0             0             0   \n",
              "\n",
              "                             PubchemFP878  PubchemFP879  PubchemFP880  \n",
              "InChIKey                                                               \n",
              "VDCCGGIBUYGMIS-MRXNPFEDSA-N             0             0             0  \n",
              "BESULOSOTMRSOO-UHFFFAOYSA-N             0             0             0  \n",
              "\n",
              "[2 rows x 882 columns]"
            ],
            "text/html": [
              "\n",
              "  <div id=\"df-bdfc4280-7da6-4160-9f88-9e2b43807b95\">\n",
              "    <div class=\"colab-df-container\">\n",
              "      <div>\n",
              "<style scoped>\n",
              "    .dataframe tbody tr th:only-of-type {\n",
              "        vertical-align: middle;\n",
              "    }\n",
              "\n",
              "    .dataframe tbody tr th {\n",
              "        vertical-align: top;\n",
              "    }\n",
              "\n",
              "    .dataframe thead th {\n",
              "        text-align: right;\n",
              "    }\n",
              "</style>\n",
              "<table border=\"1\" class=\"dataframe\">\n",
              "  <thead>\n",
              "    <tr style=\"text-align: right;\">\n",
              "      <th></th>\n",
              "      <th>pIC50</th>\n",
              "      <th>PubchemFP0</th>\n",
              "      <th>PubchemFP1</th>\n",
              "      <th>PubchemFP2</th>\n",
              "      <th>PubchemFP3</th>\n",
              "      <th>PubchemFP4</th>\n",
              "      <th>PubchemFP5</th>\n",
              "      <th>PubchemFP6</th>\n",
              "      <th>PubchemFP7</th>\n",
              "      <th>PubchemFP8</th>\n",
              "      <th>...</th>\n",
              "      <th>PubchemFP871</th>\n",
              "      <th>PubchemFP872</th>\n",
              "      <th>PubchemFP873</th>\n",
              "      <th>PubchemFP874</th>\n",
              "      <th>PubchemFP875</th>\n",
              "      <th>PubchemFP876</th>\n",
              "      <th>PubchemFP877</th>\n",
              "      <th>PubchemFP878</th>\n",
              "      <th>PubchemFP879</th>\n",
              "      <th>PubchemFP880</th>\n",
              "    </tr>\n",
              "    <tr>\n",
              "      <th>InChIKey</th>\n",
              "      <th></th>\n",
              "      <th></th>\n",
              "      <th></th>\n",
              "      <th></th>\n",
              "      <th></th>\n",
              "      <th></th>\n",
              "      <th></th>\n",
              "      <th></th>\n",
              "      <th></th>\n",
              "      <th></th>\n",
              "      <th></th>\n",
              "      <th></th>\n",
              "      <th></th>\n",
              "      <th></th>\n",
              "      <th></th>\n",
              "      <th></th>\n",
              "      <th></th>\n",
              "      <th></th>\n",
              "      <th></th>\n",
              "      <th></th>\n",
              "      <th></th>\n",
              "    </tr>\n",
              "  </thead>\n",
              "  <tbody>\n",
              "    <tr>\n",
              "      <th>VDCCGGIBUYGMIS-MRXNPFEDSA-N</th>\n",
              "      <td>6.004365</td>\n",
              "      <td>1</td>\n",
              "      <td>1</td>\n",
              "      <td>1</td>\n",
              "      <td>0</td>\n",
              "      <td>0</td>\n",
              "      <td>0</td>\n",
              "      <td>0</td>\n",
              "      <td>0</td>\n",
              "      <td>0</td>\n",
              "      <td>...</td>\n",
              "      <td>0</td>\n",
              "      <td>0</td>\n",
              "      <td>0</td>\n",
              "      <td>0</td>\n",
              "      <td>0</td>\n",
              "      <td>0</td>\n",
              "      <td>0</td>\n",
              "      <td>0</td>\n",
              "      <td>0</td>\n",
              "      <td>0</td>\n",
              "    </tr>\n",
              "    <tr>\n",
              "      <th>BESULOSOTMRSOO-UHFFFAOYSA-N</th>\n",
              "      <td>6.004365</td>\n",
              "      <td>1</td>\n",
              "      <td>1</td>\n",
              "      <td>0</td>\n",
              "      <td>0</td>\n",
              "      <td>0</td>\n",
              "      <td>0</td>\n",
              "      <td>0</td>\n",
              "      <td>0</td>\n",
              "      <td>0</td>\n",
              "      <td>...</td>\n",
              "      <td>0</td>\n",
              "      <td>0</td>\n",
              "      <td>0</td>\n",
              "      <td>0</td>\n",
              "      <td>0</td>\n",
              "      <td>0</td>\n",
              "      <td>0</td>\n",
              "      <td>0</td>\n",
              "      <td>0</td>\n",
              "      <td>0</td>\n",
              "    </tr>\n",
              "  </tbody>\n",
              "</table>\n",
              "<p>2 rows × 882 columns</p>\n",
              "</div>\n",
              "      <button class=\"colab-df-convert\" onclick=\"convertToInteractive('df-bdfc4280-7da6-4160-9f88-9e2b43807b95')\"\n",
              "              title=\"Convert this dataframe to an interactive table.\"\n",
              "              style=\"display:none;\">\n",
              "        \n",
              "  <svg xmlns=\"http://www.w3.org/2000/svg\" height=\"24px\"viewBox=\"0 0 24 24\"\n",
              "       width=\"24px\">\n",
              "    <path d=\"M0 0h24v24H0V0z\" fill=\"none\"/>\n",
              "    <path d=\"M18.56 5.44l.94 2.06.94-2.06 2.06-.94-2.06-.94-.94-2.06-.94 2.06-2.06.94zm-11 1L8.5 8.5l.94-2.06 2.06-.94-2.06-.94L8.5 2.5l-.94 2.06-2.06.94zm10 10l.94 2.06.94-2.06 2.06-.94-2.06-.94-.94-2.06-.94 2.06-2.06.94z\"/><path d=\"M17.41 7.96l-1.37-1.37c-.4-.4-.92-.59-1.43-.59-.52 0-1.04.2-1.43.59L10.3 9.45l-7.72 7.72c-.78.78-.78 2.05 0 2.83L4 21.41c.39.39.9.59 1.41.59.51 0 1.02-.2 1.41-.59l7.78-7.78 2.81-2.81c.8-.78.8-2.07 0-2.86zM5.41 20L4 18.59l7.72-7.72 1.47 1.35L5.41 20z\"/>\n",
              "  </svg>\n",
              "      </button>\n",
              "      \n",
              "  <style>\n",
              "    .colab-df-container {\n",
              "      display:flex;\n",
              "      flex-wrap:wrap;\n",
              "      gap: 12px;\n",
              "    }\n",
              "\n",
              "    .colab-df-convert {\n",
              "      background-color: #E8F0FE;\n",
              "      border: none;\n",
              "      border-radius: 50%;\n",
              "      cursor: pointer;\n",
              "      display: none;\n",
              "      fill: #1967D2;\n",
              "      height: 32px;\n",
              "      padding: 0 0 0 0;\n",
              "      width: 32px;\n",
              "    }\n",
              "\n",
              "    .colab-df-convert:hover {\n",
              "      background-color: #E2EBFA;\n",
              "      box-shadow: 0px 1px 2px rgba(60, 64, 67, 0.3), 0px 1px 3px 1px rgba(60, 64, 67, 0.15);\n",
              "      fill: #174EA6;\n",
              "    }\n",
              "\n",
              "    [theme=dark] .colab-df-convert {\n",
              "      background-color: #3B4455;\n",
              "      fill: #D2E3FC;\n",
              "    }\n",
              "\n",
              "    [theme=dark] .colab-df-convert:hover {\n",
              "      background-color: #434B5C;\n",
              "      box-shadow: 0px 1px 3px 1px rgba(0, 0, 0, 0.15);\n",
              "      filter: drop-shadow(0px 1px 2px rgba(0, 0, 0, 0.3));\n",
              "      fill: #FFFFFF;\n",
              "    }\n",
              "  </style>\n",
              "\n",
              "      <script>\n",
              "        const buttonEl =\n",
              "          document.querySelector('#df-bdfc4280-7da6-4160-9f88-9e2b43807b95 button.colab-df-convert');\n",
              "        buttonEl.style.display =\n",
              "          google.colab.kernel.accessAllowed ? 'block' : 'none';\n",
              "\n",
              "        async function convertToInteractive(key) {\n",
              "          const element = document.querySelector('#df-bdfc4280-7da6-4160-9f88-9e2b43807b95');\n",
              "          const dataTable =\n",
              "            await google.colab.kernel.invokeFunction('convertToInteractive',\n",
              "                                                     [key], {});\n",
              "          if (!dataTable) return;\n",
              "\n",
              "          const docLinkHtml = 'Like what you see? Visit the ' +\n",
              "            '<a target=\"_blank\" href=https://colab.research.google.com/notebooks/data_table.ipynb>data table notebook</a>'\n",
              "            + ' to learn more about interactive tables.';\n",
              "          element.innerHTML = '';\n",
              "          dataTable['output_type'] = 'display_data';\n",
              "          await google.colab.output.renderOutput(dataTable, element);\n",
              "          const docLink = document.createElement('div');\n",
              "          docLink.innerHTML = docLinkHtml;\n",
              "          element.appendChild(docLink);\n",
              "        }\n",
              "      </script>\n",
              "    </div>\n",
              "  </div>\n",
              "  "
            ]
          },
          "metadata": {},
          "execution_count": 13
        }
      ]
    },
    {
      "cell_type": "code",
      "execution_count": 14,
      "metadata": {
        "id": "WlbJaVnS0Diw"
      },
      "outputs": [],
      "source": [
        "def Remove_useless_descriptor(data, threshold):\n",
        "    temp = data.copy()\n",
        "    data2 = (data.drop(\"pIC50\", axis=1))\n",
        "\n",
        "    des1 = len(data2.columns)\n",
        "\n",
        "    h = data2.columns.tolist()\n",
        "    df = data2.values.astype(np.float)\n",
        "    df = np.array(df)\n",
        "\n",
        "    STDEV = np.std(df, axis=0)\n",
        "    idx = [idx for idx, val in enumerate(STDEV) if val > threshold]\n",
        "    df2 = df[:, idx]\n",
        "    hx = np.array(h)[idx]\n",
        "\n",
        "    df = pd.DataFrame(df2, columns=[hx])\n",
        "\n",
        "    des2 = len(df.columns)\n",
        "\n",
        "    df['pIC50'] = temp['pIC50'].values\n",
        "\n",
        "    print ('from Remove useless descriptor...')\n",
        "    print (\"The initial set of %d descriptors has been reduced to %d descriptors.\" % (des1, des2))\n",
        "\n",
        "    return df, des1, des2"
      ]
    },
    {
      "cell_type": "code",
      "execution_count": 15,
      "metadata": {
        "id": "RHMZbeRQ0Diw"
      },
      "outputs": [],
      "source": [
        "def correlation(data, threshold):\n",
        "    data.columns = data.columns.get_level_values(0)  # Flatten the DF to 2 dimensions\n",
        "    temp = data.copy()\n",
        "    des3 = len((data.drop('pIC50', axis=1).columns))\n",
        "    corr = stats.pearsonr\n",
        "    col_corr = set()  # Set of all the names of deleted columns\n",
        "    corr_matrix = data.corr()\n",
        "    for i in range(len(corr_matrix.columns)):\n",
        "        for j in range(i):\n",
        "            if corr_matrix.iloc[i, j] >= threshold:\n",
        "                colname = corr_matrix.columns[i]  # getting the name of column\n",
        "                col_corr.add(colname)\n",
        "                if colname in data.columns:\n",
        "                    del data[colname]  # deleting the column from the dataset\n",
        "    des4 = len((data.drop('pIC50', axis=1).columns))\n",
        "    data['pIC50'] = temp['pIC50'].values\n",
        "\n",
        "    print ('from Remove correlation...')\n",
        "    print (\"The initial set of %d descriptors has been reduced to %d descriptors.\" % (des3, des4))\n",
        "\n",
        "    return data, des3, des4"
      ]
    },
    {
      "cell_type": "code",
      "source": [
        "data, des1, des2 = Remove_useless_descriptor(dataset, 0.05)\n",
        "data, des3, des4 = correlation(data, 0.9)"
      ],
      "metadata": {
        "colab": {
          "base_uri": "https://localhost:8080/"
        },
        "id": "-w7-yMPlC0ty",
        "outputId": "59e91267-4aee-4d05-e952-ddf4d34b2b3a"
      },
      "execution_count": 16,
      "outputs": [
        {
          "output_type": "stream",
          "name": "stderr",
          "text": [
            "<ipython-input-14-54947bdaf3cf>:8: DeprecationWarning: `np.float` is a deprecated alias for the builtin `float`. To silence this warning, use `float` by itself. Doing this will not modify any behavior and is safe. If you specifically wanted the numpy scalar type, use `np.float64` here.\n",
            "Deprecated in NumPy 1.20; for more details and guidance: https://numpy.org/devdocs/release/1.20.0-notes.html#deprecations\n",
            "  df = data2.values.astype(np.float)\n"
          ]
        },
        {
          "output_type": "stream",
          "name": "stdout",
          "text": [
            "from Remove useless descriptor...\n",
            "The initial set of 881 descriptors has been reduced to 545 descriptors.\n",
            "from Remove correlation...\n",
            "The initial set of 545 descriptors has been reduced to 297 descriptors.\n"
          ]
        }
      ]
    },
    {
      "cell_type": "code",
      "execution_count": 2,
      "metadata": {
        "id": "CtcbXLRXB4Nx"
      },
      "outputs": [],
      "source": [
        "from sklearn.model_selection import train_test_split, cross_val_score, cross_validate\n",
        "from sklearn.ensemble import GradientBoostingRegressor\n",
        "from sklearn.metrics import r2_score, mean_absolute_error, mean_squared_error"
      ]
    },
    {
      "cell_type": "code",
      "source": [
        "x = dataset.drop(\"pIC50\", axis=1)\n",
        "y = dataset.pIC50\n",
        "\n",
        "x.shape"
      ],
      "metadata": {
        "colab": {
          "base_uri": "https://localhost:8080/"
        },
        "id": "SRv9GxnkCQAg",
        "outputId": "8b324e2a-239a-482a-ce26-98312461bf9a"
      },
      "execution_count": 18,
      "outputs": [
        {
          "output_type": "execute_result",
          "data": {
            "text/plain": [
              "(699, 881)"
            ]
          },
          "metadata": {},
          "execution_count": 18
        }
      ]
    },
    {
      "cell_type": "code",
      "source": [
        "x_train, x_test, y_train, y_test = train_test_split(x, y, test_size=0.2, random_state=42)"
      ],
      "metadata": {
        "id": "1rkEf5JcDOJF"
      },
      "execution_count": 47,
      "outputs": []
    },
    {
      "cell_type": "code",
      "source": [
        "from lightgbm import LGBMRegressor\n",
        "\n",
        "LG = LGBMRegressor(max_depth=3)\n",
        "LG_pre = LG.fit(x_train, y_train)"
      ],
      "metadata": {
        "id": "vsd4e3pvDQ8m"
      },
      "execution_count": 54,
      "outputs": []
    },
    {
      "cell_type": "code",
      "source": [
        "def cal_score(model, x_train, y_train, x_test, y_test):\n",
        "  np.random.seed(42)\n",
        "\n",
        "  y_train_pred = model.predict(x_train)\n",
        "  y_pred = model.predict(x_test)\n",
        "\n",
        "  print(\"Score from train set\")\n",
        "\n",
        "  r2_train = r2_score(y_train, y_train_pred)\n",
        "  mae_train = mean_absolute_error(y_train, y_train_pred)\n",
        "  mse_train = mean_squared_error(y_train, y_train_pred)\n",
        "\n",
        "  print(f\"R^2 : {r2_train:.4f}  std : {np.std(r2_train):.4f}\\nMAE : {mae_train:.4f} std : {np.std(mae_train):.4f}\\nMSE : {mse_train:.4f}  std : {np.std(mse_train):.4f}\\n\")\n",
        "\n",
        "  cv_R2 = cross_val_score(model, x_train, y_train, cv=10, scoring= \"r2\")\n",
        "  cv_mae = np.abs(cross_val_score(model, x_train, y_train, cv=10, scoring= \"neg_mean_absolute_error\"))\n",
        "  cv_mse = np.abs(cross_val_score(model, x_train, y_train, cv=10, scoring= \"neg_mean_squared_error\"))\n",
        "\n",
        "  print(\"Score from CV\")\n",
        "  print(f\"R^2 : {cv_R2.mean():.4f}  std : {np.std(cv_R2):.4f}\\nMAE : {cv_mae.mean():.4f}  std : {np.std(cv_mae):.4f}\\nMSE : {cv_mse.mean():.4f} std : {np.std(cv_mse):.4f}\\n\")\n",
        "\n",
        "  print(\"Score from test set\")\n",
        "  r2_test = r2_score(y_test, y_pred)\n",
        "  mae_test = mean_absolute_error(y_test, y_pred)\n",
        "  mse_test = mean_squared_error(y_test, y_pred)\n",
        "\n",
        "  print(f\"R^2 : {r2_test:.4f} std : {np.std(r2_test):.4f}\\nMAE : {mae_test:.4f} std : {np.std(mae_test):.4f}\\nMSE : {mse_test:.4f}  std : {np.std(mse_test):.4f}\")"
      ],
      "metadata": {
        "id": "9zeY7llGEQyB"
      },
      "execution_count": 29,
      "outputs": []
    },
    {
      "cell_type": "code",
      "source": [
        "cal_score(LG_pre, x_train, y_train, x_test, y_test)"
      ],
      "metadata": {
        "colab": {
          "base_uri": "https://localhost:8080/"
        },
        "id": "byYBsNf_EWVW",
        "outputId": "61887149-1a3a-4647-9368-29d5364e466b"
      },
      "execution_count": 55,
      "outputs": [
        {
          "output_type": "stream",
          "name": "stdout",
          "text": [
            "Score from train set\n",
            "R^2 : 0.7884  std : 0.0000\n",
            "MAE : 0.3612 std : 0.0000\n",
            "MSE : 0.2318  std : 0.0000\n",
            "\n",
            "Score from CV\n",
            "R^2 : 0.6245  std : 0.0903\n",
            "MAE : 0.4647  std : 0.0452\n",
            "MSE : 0.3985 std : 0.1021\n",
            "\n",
            "Score from test set\n",
            "R^2 : 0.6417 std : 0.0000\n",
            "MAE : 0.4909 std : 0.0000\n",
            "MSE : 0.4380  std : 0.0000\n"
          ]
        }
      ]
    }
  ]
}